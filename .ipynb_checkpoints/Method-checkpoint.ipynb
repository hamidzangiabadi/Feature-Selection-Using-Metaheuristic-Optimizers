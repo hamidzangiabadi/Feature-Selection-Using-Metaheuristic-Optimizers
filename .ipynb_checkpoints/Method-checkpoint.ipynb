{
 "cells": [
  {
   "cell_type": "markdown",
   "metadata": {
    "colab_type": "text",
    "id": "view-in-github"
   },
   "source": [
    "<a href=\"https://colab.research.google.com/github/hamidzangiabadi/sailfish-optimization-algorithm/blob/main/Method.ipynb\" target=\"_parent\"><img src=\"https://colab.research.google.com/assets/colab-badge.svg\" alt=\"Open In Colab\"/></a>"
   ]
  },
  {
   "cell_type": "code",
   "execution_count": null,
   "metadata": {
    "colab": {
     "base_uri": "https://localhost:8080/"
    },
    "id": "Y18w97Lfh9G2",
    "outputId": "4c7dbbf2-acc8-4039-db9b-0153958b229b"
   },
   "outputs": [],
   "source": [
    "!pip install ucimlrepo\n",
    "!pip install mealpy\n",
    "!pip install scikit-learn"
   ]
  },
  {
   "cell_type": "markdown",
   "metadata": {
    "id": "RM3KGHfcyEzQ"
   },
   "source": [
    "# import datasets"
   ]
  },
  {
   "cell_type": "code",
   "execution_count": 1,
   "metadata": {
    "id": "SY2jjdulw-dh",
    "scrolled": true
   },
   "outputs": [],
   "source": [
    "from ucimlrepo import fetch_ucirepo\n",
    "\n",
    "# fetch dataset\n",
    "wine = fetch_ucirepo(id=109)\n",
    "# print(\"wine loaded!\")\n",
    "# breast_cancer = fetch_ucirepo(id=14)\n",
    "# print(\"breast_cancer loaded!\")\n",
    "# zoo = fetch_ucirepo(id=111)\n",
    "# print(\"zoo loaded!\")\n",
    "# automobile = fetch_ucirepo(id=10)\n",
    "# print(\"automobile loaded\")\n",
    "# lymphography = fetch_ucirepo(id=63)\n",
    "# print(\"lymphography loaded\")\n",
    "# student_performance = fetch_ucirepo(id=320) \n",
    "# print(\"student_performance loaded\")\n",
    "# ionosphere = fetch_ucirepo(id=52)\n",
    "# print(\"ionosphere loaded\")\n",
    "# credit_approval = fetch_ucirepo(id=27) \n",
    "# print(\"credit_approval loaded\")\n",
    "# hepatitis = fetch_ucirepo(id=46) \n",
    "# print(\"hepatitis loaded\")\n",
    "\n"
   ]
  },
  {
   "cell_type": "code",
   "execution_count": 2,
   "metadata": {},
   "outputs": [],
   "source": [
    "Datasets = [\n",
    "            { \"name\" : \"Wine\" , \"dataset\" : wine },\n",
    "#             { \"name\" : \"Zoo\" , \"dataset\" : zoo },\n",
    "#             { \"name\" : \"Breast Cancer\" , \"dataset\" : breast_cancer },\n",
    "#             { \"name\" : \"Ionosphere\" , \"dataset\" : ionosphere },\n",
    "#             { \"name\" : \"Credit Approval\" , \"dataset\" : credit_approval },\n",
    "#             { \"name\" : \"Hepatitis\" , \"dataset\" : hepatitis },\n",
    "#             { \"name\" : \"Automobile\" , \"dataset\" : automobile },\n",
    "#             { \"name\" : \"Lymphography\" , \"dataset\" : lymphography },\n",
    "#             { \"name\" : \"Student Performance\" , \"dataset\" : student_performance },\n",
    "           ]"
   ]
  },
  {
   "cell_type": "markdown",
   "metadata": {
    "id": "tITyMb6GyV_q"
   },
   "source": [
    "## modify datasets and required information\n",
    "\n"
   ]
  },
  {
   "cell_type": "markdown",
   "metadata": {
    "id": "NtpKxJuoqfE0"
   },
   "source": [
    "\n",
    "\n",
    "Preprocessing to convert non int and float columns using label encoder"
   ]
  },
  {
   "cell_type": "code",
   "execution_count": 3,
   "metadata": {
    "colab": {
     "base_uri": "https://localhost:8080/"
    },
    "id": "4yzL65MklhBW",
    "outputId": "363ffa2c-e9f3-426e-a76d-712ddda1fc41"
   },
   "outputs": [],
   "source": [
    "from sklearn.preprocessing import LabelEncoder\n",
    "import pandas as pd\n",
    "\n",
    "\n",
    "\n",
    "for x in Datasets:\n",
    "\n",
    "  label_encoder = LabelEncoder()\n",
    "  df = x[\"dataset\"].data.features\n",
    "  object_columns = df.select_dtypes(include=['object']).columns\n",
    "  # Apply LabelEncoder to each object column\n",
    "  for column in object_columns:\n",
    "      df[column + '_encoded'] = label_encoder.fit_transform(df[column])\n",
    "  df = df.drop(columns=object_columns)\n",
    "\n",
    "  x[\"dataset\"].data.features = df\n",
    "\n",
    "  targetdf = x[\"dataset\"].data.targets\n",
    "  object_columns = targetdf.select_dtypes(include=['object']).columns\n",
    "  # Apply LabelEncoder to each object column\n",
    "  for column in object_columns:\n",
    "      targetdf[column + '_encoded'] = label_encoder.fit_transform(targetdf[column])\n",
    "  targetdf = targetdf.drop(columns=object_columns)\n",
    "\n",
    "  x[\"dataset\"].data.targets = targetdf\n"
   ]
  },
  {
   "cell_type": "markdown",
   "metadata": {
    "id": "xu_GeOgv0aew"
   },
   "source": [
    "## functions"
   ]
  },
  {
   "cell_type": "code",
   "execution_count": 4,
   "metadata": {
    "id": "7bw1T95W0W3e"
   },
   "outputs": [],
   "source": [
    "import csv\n",
    "\n",
    "def binary_conversion(X, dim):\n",
    "    Xbin = np.zeros(dim)\n",
    "    for d in range(dim):\n",
    "        if X[d] > 0.5:\n",
    "            Xbin[d] = 1\n",
    "        else:\n",
    "            Xbin[d] = 0\n",
    "\n",
    "    return Xbin\n",
    "\n",
    "\n",
    "def save_results(g_best, method_name, num_features,datasetName):\n",
    "    \n",
    "    selectedFeaturesSubset = binary_conversion(g_best.solution,num_features)\n",
    "    featuresCount = int(sum(selectedFeaturesSubset))\n",
    "    bestFitness = g_best.target.fitness\n",
    "    \n",
    "    print(f\"Solution: {str(selectedFeaturesSubset)}, Fitness: {g_best.target.fitness}\")\n",
    "    print(f\"No of features: {str(featuresCount)}\")\n",
    "    print(f\"Reached accuracy: {str(checkAccuracy(selectedFeaturesSubset))}\");\n",
    "    \n",
    "  \n",
    "    res = {\n",
    "        \"Method\": method_name,\n",
    "        \"NumberOfFeatures\": str(featuresCount),\n",
    "        \"Accuracy\": checkAccuracy(selectedFeaturesSubset),\n",
    "        \"Fitness\": bestFitness\n",
    "    }\n",
    "    # Save to CSV or any other preferred format\n",
    "    # Example: Using pandas to save as CSV\n",
    "    import pandas as pd\n",
    "    df = pd.DataFrame([res])\n",
    "    df.to_csv(f\"{datasetName}_results.csv\", mode='a', index=False, header=not pd.io.common.file_exists(f\"{datasetName}_results.csv\"))\n",
    "    "
   ]
  },
  {
   "cell_type": "markdown",
   "metadata": {
    "id": "GfnQ-q_c0v8A"
   },
   "source": [
    "## method"
   ]
  },
  {
   "cell_type": "code",
   "execution_count": 5,
   "metadata": {
    "colab": {
     "base_uri": "https://localhost:8080/"
    },
    "id": "DIya6fMP0sPJ",
    "outputId": "e9e6f949-4508-46d5-c1a1-4176105db37c",
    "scrolled": true
   },
   "outputs": [
    {
     "name": "stderr",
     "output_type": "stream",
     "text": [
      "2024/05/18 01:08:33 PM, INFO, mealpy.swarm_based.SFO.OriginalSFO: Solving single objective optimization problem.\n",
      "2024/05/18 01:08:51 PM, INFO, mealpy.swarm_based.SFO.OriginalSFO: >>>Problem: P, Epoch: 1, Current best: 0.4965811965811966, Global best: 0.4965811965811966, Runtime: 2.45685 seconds\n",
      "2024/05/18 01:08:55 PM, INFO, mealpy.swarm_based.SFO.OriginalSFO: >>>Problem: P, Epoch: 2, Current best: 0.4965811965811966, Global best: 0.4965811965811966, Runtime: 3.99509 seconds\n"
     ]
    },
    {
     "ename": "KeyboardInterrupt",
     "evalue": "",
     "output_type": "error",
     "traceback": [
      "\u001b[1;31m---------------------------------------------------------------------------\u001b[0m",
      "\u001b[1;31mKeyboardInterrupt\u001b[0m                         Traceback (most recent call last)",
      "Cell \u001b[1;32mIn[5], line 86\u001b[0m\n\u001b[0;32m     78\u001b[0m problem_dict \u001b[38;5;241m=\u001b[39m {\n\u001b[0;32m     79\u001b[0m \u001b[38;5;124m\"\u001b[39m\u001b[38;5;124mbounds\u001b[39m\u001b[38;5;124m\"\u001b[39m: FloatVar(lb\u001b[38;5;241m=\u001b[39mlb, ub\u001b[38;5;241m=\u001b[39mub, ),\n\u001b[0;32m     80\u001b[0m \u001b[38;5;124m\"\u001b[39m\u001b[38;5;124mobj_func\u001b[39m\u001b[38;5;124m\"\u001b[39m: objective_function,\n\u001b[0;32m     81\u001b[0m \u001b[38;5;124m\"\u001b[39m\u001b[38;5;124mminmax\u001b[39m\u001b[38;5;124m\"\u001b[39m: \u001b[38;5;124m\"\u001b[39m\u001b[38;5;124mmax\u001b[39m\u001b[38;5;124m\"\u001b[39m\n\u001b[0;32m     82\u001b[0m }\n\u001b[0;32m     85\u001b[0m SFOModel \u001b[38;5;241m=\u001b[39m SFO\u001b[38;5;241m.\u001b[39mOriginalSFO(epoch\u001b[38;5;241m=\u001b[39m\u001b[38;5;241m20\u001b[39m,pop_size\u001b[38;5;241m=\u001b[39m\u001b[38;5;241m30\u001b[39m, pp \u001b[38;5;241m=\u001b[39m \u001b[38;5;241m0.2\u001b[39m, AP \u001b[38;5;241m=\u001b[39m \u001b[38;5;241m4\u001b[39m,epsilon \u001b[38;5;241m=\u001b[39m \u001b[38;5;241m0.0001\u001b[39m)\n\u001b[1;32m---> 86\u001b[0m g_best \u001b[38;5;241m=\u001b[39m SFOModel\u001b[38;5;241m.\u001b[39msolve(problem_dict)\n\u001b[0;32m     87\u001b[0m save_results(g_best,\u001b[38;5;124m\"\u001b[39m\u001b[38;5;124mSFO\u001b[39m\u001b[38;5;124m\"\u001b[39m, num_features, dataset[\u001b[38;5;124m\"\u001b[39m\u001b[38;5;124mname\u001b[39m\u001b[38;5;124m\"\u001b[39m])\n\u001b[0;32m     89\u001b[0m GAmodel \u001b[38;5;241m=\u001b[39m GA\u001b[38;5;241m.\u001b[39mBaseGA(epoch\u001b[38;5;241m=\u001b[39m\u001b[38;5;241m20\u001b[39m,pop_size\u001b[38;5;241m=\u001b[39m\u001b[38;5;241m20\u001b[39m,pc\u001b[38;5;241m=\u001b[39m\u001b[38;5;241m0.9\u001b[39m, pm\u001b[38;5;241m=\u001b[39m\u001b[38;5;241m0.05\u001b[39m)\n",
      "File \u001b[1;32mC:\\ProgramData\\miniconda3\\Lib\\site-packages\\mealpy\\optimizer.py:237\u001b[0m, in \u001b[0;36mOptimizer.solve\u001b[1;34m(self, problem, mode, n_workers, termination, starting_solutions, seed)\u001b[0m\n\u001b[0;32m    234\u001b[0m time_epoch \u001b[38;5;241m=\u001b[39m time\u001b[38;5;241m.\u001b[39mperf_counter()\n\u001b[0;32m    236\u001b[0m \u001b[38;5;66;03m## Evolve method will be called in child class\u001b[39;00m\n\u001b[1;32m--> 237\u001b[0m \u001b[38;5;28mself\u001b[39m\u001b[38;5;241m.\u001b[39mevolve(epoch)\n\u001b[0;32m    239\u001b[0m \u001b[38;5;66;03m# Update global best solution, the population is sorted or not depended on algorithm's strategy\u001b[39;00m\n\u001b[0;32m    240\u001b[0m pop_temp, \u001b[38;5;28mself\u001b[39m\u001b[38;5;241m.\u001b[39mg_best \u001b[38;5;241m=\u001b[39m \u001b[38;5;28mself\u001b[39m\u001b[38;5;241m.\u001b[39mupdate_global_best_agent(\u001b[38;5;28mself\u001b[39m\u001b[38;5;241m.\u001b[39mpop)\n",
      "File \u001b[1;32mC:\\ProgramData\\miniconda3\\Lib\\site-packages\\mealpy\\swarm_based\\SFO.py:92\u001b[0m, in \u001b[0;36mOriginalSFO.evolve\u001b[1;34m(self, epoch)\u001b[0m\n\u001b[0;32m     90\u001b[0m     pop_new\u001b[38;5;241m.\u001b[39mappend(agent)\n\u001b[0;32m     91\u001b[0m     \u001b[38;5;28;01mif\u001b[39;00m \u001b[38;5;28mself\u001b[39m\u001b[38;5;241m.\u001b[39mmode \u001b[38;5;129;01mnot\u001b[39;00m \u001b[38;5;129;01min\u001b[39;00m \u001b[38;5;28mself\u001b[39m\u001b[38;5;241m.\u001b[39mAVAILABLE_MODES:\n\u001b[1;32m---> 92\u001b[0m         agent\u001b[38;5;241m.\u001b[39mtarget \u001b[38;5;241m=\u001b[39m \u001b[38;5;28mself\u001b[39m\u001b[38;5;241m.\u001b[39mget_target(pos_new)\n\u001b[0;32m     93\u001b[0m         \u001b[38;5;28mself\u001b[39m\u001b[38;5;241m.\u001b[39mpop[idx] \u001b[38;5;241m=\u001b[39m \u001b[38;5;28mself\u001b[39m\u001b[38;5;241m.\u001b[39mget_better_agent(\u001b[38;5;28mself\u001b[39m\u001b[38;5;241m.\u001b[39mpop[idx], agent, \u001b[38;5;28mself\u001b[39m\u001b[38;5;241m.\u001b[39mproblem\u001b[38;5;241m.\u001b[39mminmax)\n\u001b[0;32m     94\u001b[0m \u001b[38;5;28;01mif\u001b[39;00m \u001b[38;5;28mself\u001b[39m\u001b[38;5;241m.\u001b[39mmode \u001b[38;5;129;01min\u001b[39;00m \u001b[38;5;28mself\u001b[39m\u001b[38;5;241m.\u001b[39mAVAILABLE_MODES:\n",
      "File \u001b[1;32mC:\\ProgramData\\miniconda3\\Lib\\site-packages\\mealpy\\optimizer.py:406\u001b[0m, in \u001b[0;36mOptimizer.get_target\u001b[1;34m(self, solution, counted)\u001b[0m\n\u001b[0;32m    404\u001b[0m \u001b[38;5;28;01mif\u001b[39;00m counted:\n\u001b[0;32m    405\u001b[0m     \u001b[38;5;28mself\u001b[39m\u001b[38;5;241m.\u001b[39mnfe_counter \u001b[38;5;241m+\u001b[39m\u001b[38;5;241m=\u001b[39m \u001b[38;5;241m1\u001b[39m\n\u001b[1;32m--> 406\u001b[0m \u001b[38;5;28;01mreturn\u001b[39;00m \u001b[38;5;28mself\u001b[39m\u001b[38;5;241m.\u001b[39mproblem\u001b[38;5;241m.\u001b[39mget_target(solution)\n",
      "File \u001b[1;32mC:\\ProgramData\\miniconda3\\Lib\\site-packages\\mealpy\\utils\\problem.py:200\u001b[0m, in \u001b[0;36mProblem.get_target\u001b[1;34m(self, solution)\u001b[0m\n\u001b[0;32m    192\u001b[0m \u001b[38;5;28;01mdef\u001b[39;00m \u001b[38;5;21mget_target\u001b[39m(\u001b[38;5;28mself\u001b[39m, solution: np\u001b[38;5;241m.\u001b[39mndarray) \u001b[38;5;241m-\u001b[39m\u001b[38;5;241m>\u001b[39m Target:\n\u001b[0;32m    193\u001b[0m \u001b[38;5;250m    \u001b[39m\u001b[38;5;124;03m\"\"\"\u001b[39;00m\n\u001b[0;32m    194\u001b[0m \u001b[38;5;124;03m    Args:\u001b[39;00m\n\u001b[0;32m    195\u001b[0m \u001b[38;5;124;03m        solution: The real-value solution\u001b[39;00m\n\u001b[1;32m   (...)\u001b[0m\n\u001b[0;32m    198\u001b[0m \u001b[38;5;124;03m        The target object\u001b[39;00m\n\u001b[0;32m    199\u001b[0m \u001b[38;5;124;03m    \"\"\"\u001b[39;00m\n\u001b[1;32m--> 200\u001b[0m     objs \u001b[38;5;241m=\u001b[39m \u001b[38;5;28mself\u001b[39m\u001b[38;5;241m.\u001b[39mobj_func(solution)\n\u001b[0;32m    201\u001b[0m     \u001b[38;5;28;01mreturn\u001b[39;00m Target(objectives\u001b[38;5;241m=\u001b[39mobjs, weights\u001b[38;5;241m=\u001b[39m\u001b[38;5;28mself\u001b[39m\u001b[38;5;241m.\u001b[39mobj_weights)\n",
      "Cell \u001b[1;32mIn[5], line 52\u001b[0m, in \u001b[0;36mobjective_function\u001b[1;34m(features)\u001b[0m\n\u001b[0;32m     50\u001b[0m X_train, X_test, y_train, y_test \u001b[38;5;241m=\u001b[39m train_test_split(f, targets, test_size\u001b[38;5;241m=\u001b[39m\u001b[38;5;241m0.3\u001b[39m)\n\u001b[0;32m     51\u001b[0m svm \u001b[38;5;241m=\u001b[39m SVC(kernel\u001b[38;5;241m=\u001b[39m\u001b[38;5;124m'\u001b[39m\u001b[38;5;124mlinear\u001b[39m\u001b[38;5;124m'\u001b[39m)\n\u001b[1;32m---> 52\u001b[0m svm\u001b[38;5;241m.\u001b[39mfit(X_train, y_train)\n\u001b[0;32m     53\u001b[0m \u001b[38;5;66;03m# Predict on test set\u001b[39;00m\n\u001b[0;32m     54\u001b[0m y_pred \u001b[38;5;241m=\u001b[39m svm\u001b[38;5;241m.\u001b[39mpredict(X_test)\n",
      "File \u001b[1;32mC:\\ProgramData\\miniconda3\\Lib\\site-packages\\sklearn\\base.py:1474\u001b[0m, in \u001b[0;36m_fit_context.<locals>.decorator.<locals>.wrapper\u001b[1;34m(estimator, *args, **kwargs)\u001b[0m\n\u001b[0;32m   1467\u001b[0m     estimator\u001b[38;5;241m.\u001b[39m_validate_params()\n\u001b[0;32m   1469\u001b[0m \u001b[38;5;28;01mwith\u001b[39;00m config_context(\n\u001b[0;32m   1470\u001b[0m     skip_parameter_validation\u001b[38;5;241m=\u001b[39m(\n\u001b[0;32m   1471\u001b[0m         prefer_skip_nested_validation \u001b[38;5;129;01mor\u001b[39;00m global_skip_validation\n\u001b[0;32m   1472\u001b[0m     )\n\u001b[0;32m   1473\u001b[0m ):\n\u001b[1;32m-> 1474\u001b[0m     \u001b[38;5;28;01mreturn\u001b[39;00m fit_method(estimator, \u001b[38;5;241m*\u001b[39margs, \u001b[38;5;241m*\u001b[39m\u001b[38;5;241m*\u001b[39mkwargs)\n",
      "File \u001b[1;32mC:\\ProgramData\\miniconda3\\Lib\\site-packages\\sklearn\\svm\\_base.py:250\u001b[0m, in \u001b[0;36mBaseLibSVM.fit\u001b[1;34m(self, X, y, sample_weight)\u001b[0m\n\u001b[0;32m    247\u001b[0m     \u001b[38;5;28mprint\u001b[39m(\u001b[38;5;124m\"\u001b[39m\u001b[38;5;124m[LibSVM]\u001b[39m\u001b[38;5;124m\"\u001b[39m, end\u001b[38;5;241m=\u001b[39m\u001b[38;5;124m\"\u001b[39m\u001b[38;5;124m\"\u001b[39m)\n\u001b[0;32m    249\u001b[0m seed \u001b[38;5;241m=\u001b[39m rnd\u001b[38;5;241m.\u001b[39mrandint(np\u001b[38;5;241m.\u001b[39miinfo(\u001b[38;5;124m\"\u001b[39m\u001b[38;5;124mi\u001b[39m\u001b[38;5;124m\"\u001b[39m)\u001b[38;5;241m.\u001b[39mmax)\n\u001b[1;32m--> 250\u001b[0m fit(X, y, sample_weight, solver_type, kernel, random_seed\u001b[38;5;241m=\u001b[39mseed)\n\u001b[0;32m    251\u001b[0m \u001b[38;5;66;03m# see comment on the other call to np.iinfo in this file\u001b[39;00m\n\u001b[0;32m    253\u001b[0m \u001b[38;5;28mself\u001b[39m\u001b[38;5;241m.\u001b[39mshape_fit_ \u001b[38;5;241m=\u001b[39m X\u001b[38;5;241m.\u001b[39mshape \u001b[38;5;28;01mif\u001b[39;00m \u001b[38;5;28mhasattr\u001b[39m(X, \u001b[38;5;124m\"\u001b[39m\u001b[38;5;124mshape\u001b[39m\u001b[38;5;124m\"\u001b[39m) \u001b[38;5;28;01melse\u001b[39;00m (n_samples,)\n",
      "File \u001b[1;32mC:\\ProgramData\\miniconda3\\Lib\\site-packages\\sklearn\\svm\\_base.py:329\u001b[0m, in \u001b[0;36mBaseLibSVM._dense_fit\u001b[1;34m(self, X, y, sample_weight, solver_type, kernel, random_seed)\u001b[0m\n\u001b[0;32m    315\u001b[0m libsvm\u001b[38;5;241m.\u001b[39mset_verbosity_wrap(\u001b[38;5;28mself\u001b[39m\u001b[38;5;241m.\u001b[39mverbose)\n\u001b[0;32m    317\u001b[0m \u001b[38;5;66;03m# we don't pass **self.get_params() to allow subclasses to\u001b[39;00m\n\u001b[0;32m    318\u001b[0m \u001b[38;5;66;03m# add other parameters to __init__\u001b[39;00m\n\u001b[0;32m    319\u001b[0m (\n\u001b[0;32m    320\u001b[0m     \u001b[38;5;28mself\u001b[39m\u001b[38;5;241m.\u001b[39msupport_,\n\u001b[0;32m    321\u001b[0m     \u001b[38;5;28mself\u001b[39m\u001b[38;5;241m.\u001b[39msupport_vectors_,\n\u001b[0;32m    322\u001b[0m     \u001b[38;5;28mself\u001b[39m\u001b[38;5;241m.\u001b[39m_n_support,\n\u001b[0;32m    323\u001b[0m     \u001b[38;5;28mself\u001b[39m\u001b[38;5;241m.\u001b[39mdual_coef_,\n\u001b[0;32m    324\u001b[0m     \u001b[38;5;28mself\u001b[39m\u001b[38;5;241m.\u001b[39mintercept_,\n\u001b[0;32m    325\u001b[0m     \u001b[38;5;28mself\u001b[39m\u001b[38;5;241m.\u001b[39m_probA,\n\u001b[0;32m    326\u001b[0m     \u001b[38;5;28mself\u001b[39m\u001b[38;5;241m.\u001b[39m_probB,\n\u001b[0;32m    327\u001b[0m     \u001b[38;5;28mself\u001b[39m\u001b[38;5;241m.\u001b[39mfit_status_,\n\u001b[0;32m    328\u001b[0m     \u001b[38;5;28mself\u001b[39m\u001b[38;5;241m.\u001b[39m_num_iter,\n\u001b[1;32m--> 329\u001b[0m ) \u001b[38;5;241m=\u001b[39m libsvm\u001b[38;5;241m.\u001b[39mfit(\n\u001b[0;32m    330\u001b[0m     X,\n\u001b[0;32m    331\u001b[0m     y,\n\u001b[0;32m    332\u001b[0m     svm_type\u001b[38;5;241m=\u001b[39msolver_type,\n\u001b[0;32m    333\u001b[0m     sample_weight\u001b[38;5;241m=\u001b[39msample_weight,\n\u001b[0;32m    334\u001b[0m     class_weight\u001b[38;5;241m=\u001b[39m\u001b[38;5;28mgetattr\u001b[39m(\u001b[38;5;28mself\u001b[39m, \u001b[38;5;124m\"\u001b[39m\u001b[38;5;124mclass_weight_\u001b[39m\u001b[38;5;124m\"\u001b[39m, np\u001b[38;5;241m.\u001b[39mempty(\u001b[38;5;241m0\u001b[39m)),\n\u001b[0;32m    335\u001b[0m     kernel\u001b[38;5;241m=\u001b[39mkernel,\n\u001b[0;32m    336\u001b[0m     C\u001b[38;5;241m=\u001b[39m\u001b[38;5;28mself\u001b[39m\u001b[38;5;241m.\u001b[39mC,\n\u001b[0;32m    337\u001b[0m     nu\u001b[38;5;241m=\u001b[39m\u001b[38;5;28mself\u001b[39m\u001b[38;5;241m.\u001b[39mnu,\n\u001b[0;32m    338\u001b[0m     probability\u001b[38;5;241m=\u001b[39m\u001b[38;5;28mself\u001b[39m\u001b[38;5;241m.\u001b[39mprobability,\n\u001b[0;32m    339\u001b[0m     degree\u001b[38;5;241m=\u001b[39m\u001b[38;5;28mself\u001b[39m\u001b[38;5;241m.\u001b[39mdegree,\n\u001b[0;32m    340\u001b[0m     shrinking\u001b[38;5;241m=\u001b[39m\u001b[38;5;28mself\u001b[39m\u001b[38;5;241m.\u001b[39mshrinking,\n\u001b[0;32m    341\u001b[0m     tol\u001b[38;5;241m=\u001b[39m\u001b[38;5;28mself\u001b[39m\u001b[38;5;241m.\u001b[39mtol,\n\u001b[0;32m    342\u001b[0m     cache_size\u001b[38;5;241m=\u001b[39m\u001b[38;5;28mself\u001b[39m\u001b[38;5;241m.\u001b[39mcache_size,\n\u001b[0;32m    343\u001b[0m     coef0\u001b[38;5;241m=\u001b[39m\u001b[38;5;28mself\u001b[39m\u001b[38;5;241m.\u001b[39mcoef0,\n\u001b[0;32m    344\u001b[0m     gamma\u001b[38;5;241m=\u001b[39m\u001b[38;5;28mself\u001b[39m\u001b[38;5;241m.\u001b[39m_gamma,\n\u001b[0;32m    345\u001b[0m     epsilon\u001b[38;5;241m=\u001b[39m\u001b[38;5;28mself\u001b[39m\u001b[38;5;241m.\u001b[39mepsilon,\n\u001b[0;32m    346\u001b[0m     max_iter\u001b[38;5;241m=\u001b[39m\u001b[38;5;28mself\u001b[39m\u001b[38;5;241m.\u001b[39mmax_iter,\n\u001b[0;32m    347\u001b[0m     random_seed\u001b[38;5;241m=\u001b[39mrandom_seed,\n\u001b[0;32m    348\u001b[0m )\n\u001b[0;32m    350\u001b[0m \u001b[38;5;28mself\u001b[39m\u001b[38;5;241m.\u001b[39m_warn_from_fit_status()\n",
      "\u001b[1;31mKeyboardInterrupt\u001b[0m: "
     ]
    }
   ],
   "source": [
    "import numpy as np\n",
    "from mealpy import FloatVar, GA,SFO,WOA,EHO,GWO,DO,MVO,MFO\n",
    "from sklearn.model_selection import cross_val_score\n",
    "from sklearn.svm import SVC\n",
    "from sklearn.metrics import accuracy_score\n",
    "from sklearn.ensemble import RandomForestClassifier\n",
    "from sklearn.model_selection import train_test_split\n",
    "from sklearn import preprocessing\n",
    "\n",
    "\n",
    "\n",
    "\n",
    "\n",
    "def checkAccuracy(features):\n",
    "    max_feat = len(features)\n",
    "    num_feat = np.sum(binary_conversion(features,num_features) == 1)\n",
    "    if num_feat == 0:\n",
    "        return 0\n",
    "\n",
    "    targets = np.array(y).ravel()\n",
    "    selected_features = binary_conversion(features,num_features);\n",
    "    f =  X.iloc[:, selected_features == 1]\n",
    "    X_train, X_test, y_train, y_test = train_test_split(f, targets, test_size=0.3)\n",
    "    svm = SVC(kernel='linear')\n",
    "    svm.fit(X_train, y_train)\n",
    "    # Predict on test set\n",
    "    y_pred = svm.predict(X_test)\n",
    "\n",
    "    num_valid = np.size(X_test, 0)\n",
    "    yvalid  = y_test.reshape(num_valid)\n",
    "    accuracy = accuracy_score(y_test, y_pred)\n",
    "    return accuracy\n",
    "\n",
    "def objective_function(features):\n",
    "    max_feat = len(features)\n",
    "    num_feat = np.sum(binary_conversion(features,num_features) == 1)\n",
    "    \n",
    "    # If no features or all features are selected, return a poor score\n",
    "    if num_feat == 0 or num_feat == max_feat:\n",
    "        return 0  # Adjusted to return a low score, not 1\n",
    "\n",
    "\n",
    "    alpha = 0.6\n",
    "    beta = 0.4\n",
    "\n",
    "    targets = np.array(y).ravel()\n",
    "    selected_features = binary_conversion(features,num_features);\n",
    "\n",
    "    f =  X.iloc[:, selected_features == 1]\n",
    "    X_train, X_test, y_train, y_test = train_test_split(f, targets, test_size=0.3)\n",
    "    svm = SVC(kernel='linear')\n",
    "    svm.fit(X_train, y_train)\n",
    "    # Predict on test set\n",
    "    y_pred = svm.predict(X_test)\n",
    "\n",
    "    num_valid = np.size(X_test, 0)\n",
    "    yvalid  = y_test.reshape(num_valid)\n",
    "\n",
    "    # Calculate accuracy\n",
    "    accuracy = accuracy_score(y_test, y_pred)\n",
    "    \n",
    "    cost = alpha * accuracy - beta * (num_feat / max_feat)\n",
    "    return cost\n",
    "\n",
    "\n",
    "\n",
    "for dataset in Datasets:\n",
    "    X = dataset[\"dataset\"].data.features\n",
    "    y = dataset[\"dataset\"].data.targets\n",
    "\n",
    "    num_features = X.shape[1]\n",
    "    search_space = np.array([0, 1] * num_features)\n",
    "\n",
    "    lb = np.zeros(num_features)\n",
    "    ub = np.ones(num_features)\n",
    "\n",
    "\n",
    "    problem_dict = {\n",
    "    \"bounds\": FloatVar(lb=lb, ub=ub, ),\n",
    "    \"obj_func\": objective_function,\n",
    "    \"minmax\": \"max\"\n",
    "    }\n",
    "    \n",
    "    \n",
    "    SFOModel = SFO.OriginalSFO(epoch=20,pop_size=30, pp = 0.2, AP = 4,epsilon = 0.0001)\n",
    "    g_best = SFOModel.solve(problem_dict)\n",
    "    save_results(g_best,\"SFO\", num_features, dataset[\"name\"])\n",
    "\n",
    "    GAmodel = GA.BaseGA(epoch=20,pop_size=20,pc=0.9, pm=0.05)\n",
    "    g_best = GAmodel.solve(problem_dict)\n",
    "    save_results(g_best,\"GA\", num_features, dataset[\"name\"])\n",
    "\n",
    "    EHOModel = EHO.OriginalEHO(epoch=20,pop_size=20, alpha = 0.5, beta = 0.5, n_clans = 2)\n",
    "    g_best = EHOModel.solve(problem_dict)\n",
    "    save_results(g_best,\"EHO\", num_features, dataset[\"name\"])\n",
    "\n",
    "    GWOModel = GWO.OriginalGWO(epoch=20,pop_size=20)\n",
    "    g_best = GWOModel.solve(problem_dict)\n",
    "    save_results(g_best,\"GWO\", num_features, dataset[\"name\"])\n",
    "\n",
    "    WOAModel = WOA.OriginalWOA(epoch=20,pop_size=20)\n",
    "    g_best = WOAModel.solve(problem_dict)\n",
    "    save_results(g_best,\"WOA\", num_features, dataset[\"name\"])\n",
    "\n",
    "    DOModel = DO.OriginalDO(epoch=20,pop_size=20, pr=0.03) \n",
    "    g_best = DOModel.solve(problem_dict)\n",
    "    save_results(g_best,\"DO\", num_features, dataset[\"name\"])\n",
    "    \n",
    "    MFOModel = MFO.OriginalMFO(epoch=20,pop_size=20)\n",
    "    g_best = MFOModel.solve(problem_dict)\n",
    "    save_results(g_best,\"MFO\", num_features, dataset[\"name\"])\n"
   ]
  },
  {
   "cell_type": "markdown",
   "metadata": {
    "id": "dmv8irBI1JXj"
   },
   "source": [
    "# create plots"
   ]
  },
  {
   "cell_type": "code",
   "execution_count": null,
   "metadata": {
    "colab": {
     "base_uri": "https://localhost:8080/",
     "height": 719
    },
    "id": "3rmAMFcy1BnK",
    "outputId": "353f59e2-c2a7-4e9b-8c61-51ec128e50f4"
   },
   "outputs": [],
   "source": [
    "\n",
    "import numpy as np\n",
    "import matplotlib.pyplot as plt\n",
    "\n",
    "\n",
    "\n",
    "# set width of bar\n",
    "barWidth = 0.25\n",
    "fig = plt.subplots(figsize =(12, 8))\n",
    "\n",
    "\n",
    "SFO = [];\n",
    "GA = [];\n",
    "\n",
    "DatasetsName = []\n",
    "\n",
    "\n",
    "for x in Datasets:\n",
    "  SFO.append(float(x[\"Accuracy_SFO\"]) * 100)\n",
    "  GA.append(float(x[\"Accuracy_GA\"]) * 100)\n",
    "  DatasetsName.append(x[\"name\"])\n",
    "\n",
    "\n",
    "# Set position of bar on X axis\n",
    "br1 = np.arange(len(SFO))\n",
    "br2 = [x + barWidth for x in br1]\n",
    "br3 = [x + barWidth for x in br2]\n",
    "\n",
    "# Make the plot\n",
    "plt.bar(br1, SFO, color ='r', width = barWidth,\n",
    "        edgecolor ='grey', label ='SFO')\n",
    "plt.bar(br2, GA, color ='g', width = barWidth,\n",
    "        edgecolor ='grey', label ='GA')\n",
    "\n",
    "# Adding Xticks\n",
    "plt.xlabel('Branch', fontweight ='bold', fontsize = 15)\n",
    "plt.ylabel('Students passed', fontweight ='bold', fontsize = 15)\n",
    "plt.xticks([r + barWidth for r in range(len(SFO))],\n",
    "       DatasetsName)\n",
    "\n",
    "plt.legend()\n",
    "plt.show()"
   ]
  },
  {
   "cell_type": "code",
   "execution_count": null,
   "metadata": {
    "id": "m0vOQ_Yk3YIM"
   },
   "outputs": [],
   "source": []
  }
 ],
 "metadata": {
  "colab": {
   "authorship_tag": "ABX9TyO3WAWWnUBy/ps6Grin1axa",
   "include_colab_link": true,
   "provenance": []
  },
  "kernelspec": {
   "display_name": "Python 3 (ipykernel)",
   "language": "python",
   "name": "python3"
  },
  "language_info": {
   "codemirror_mode": {
    "name": "ipython",
    "version": 3
   },
   "file_extension": ".py",
   "mimetype": "text/x-python",
   "name": "python",
   "nbconvert_exporter": "python",
   "pygments_lexer": "ipython3",
   "version": "3.11.7"
  }
 },
 "nbformat": 4,
 "nbformat_minor": 1
}
