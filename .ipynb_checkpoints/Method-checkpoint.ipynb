{
 "cells": [
  {
   "cell_type": "markdown",
   "metadata": {
    "colab_type": "text",
    "id": "view-in-github"
   },
   "source": [
    "<a href=\"https://colab.research.google.com/github/hamidzangiabadi/sailfish-optimization-algorithm/blob/main/Method.ipynb\" target=\"_parent\"><img src=\"https://colab.research.google.com/assets/colab-badge.svg\" alt=\"Open In Colab\"/></a>"
   ]
  },
  {
   "cell_type": "code",
   "execution_count": null,
   "metadata": {
    "colab": {
     "base_uri": "https://localhost:8080/"
    },
    "id": "Y18w97Lfh9G2",
    "outputId": "4c7dbbf2-acc8-4039-db9b-0153958b229b"
   },
   "outputs": [],
   "source": [
    "# !pip install ucimlrepo\n",
    "# !pip install mealpy\n",
    "# !pip install scikit-learn\n",
    "!pip install uci-dataset"
   ]
  },
  {
   "cell_type": "markdown",
   "metadata": {
    "id": "RM3KGHfcyEzQ"
   },
   "source": [
    "# import datasets"
   ]
  },
  {
   "cell_type": "code",
   "execution_count": null,
   "metadata": {
    "id": "SY2jjdulw-dh",
    "scrolled": true
   },
   "outputs": [],
   "source": [
    "from ucimlrepo import fetch_ucirepo\n",
    "\n",
    "# fetch dataset\n",
    "# iris = fetch_ucirepo(id=53) \n",
    "# breast_cancer = fetch_ucirepo(id=14)\n",
    "# communities_and_crime = fetch_ucirepo(id=183) \n",
    "# zoo = fetch_ucirepo(id=111)\n",
    "# automobile = fetch_ucirepo(id=10)\n",
    "# print(\"imported\")\n",
    "# lymphography = fetch_ucirepo(id=63)\n",
    "# print(\"imported\")\n",
    "# student_performance = fetch_ucirepo(id=320) \n",
    "# ionosphere = fetch_ucirepo(id=52)\n",
    "# credit_approval = fetch_ucirepo(id=27) \n",
    "# hepatitis = fetch_ucirepo(id=46) \n",
    "# letter_recognition = fetch_ucirepo(id=59)\n",
    "# heart_disease = fetch_ucirepo(id=45) \n",
    "tic_tac_toe_endgame = fetch_ucirepo(id=101) \n",
    "\n",
    "print(\"imported\")\n"
   ]
  },
  {
   "cell_type": "code",
   "execution_count": null,
   "metadata": {},
   "outputs": [],
   "source": [
    "import pandas as pd\n",
    "\n",
    "\n",
    "Datasets = [\n",
    "#             { \"name\" : \"Iris\" , \"dataset\" : iris },\n",
    "#              { \"name\" : \"Breast Cancer\" , \"dataset\" : breast_cancer },\n",
    "#              { \"name\" : \"Zoo\" , \"dataset\" : zoo },\n",
    "#              { \"name\" : \"Automobile\" , \"dataset\" : automobile },\n",
    "#              { \"name\" : \"Lymphography\" , \"dataset\" : lymphography },\n",
    "#              { \"name\" : \"Student Performance\" , \"dataset\" : student_performance },\n",
    "#              { \"name\" : \"Ionosphere\" , \"dataset\" : ionosphere },\n",
    "#              { \"name\" : \"Credit Approval\" , \"dataset\" : credit_approval },\n",
    "#              { \"name\" : \"Hepatitis\" , \"dataset\" : hepatitis },\n",
    "#                { \"name\" : \"Communities and Crime\" , \"dataset\" : communities_and_crime },\n",
    "#                 { \"name\" : \"Letter Recognition\" , \"dataset\" : letter_recognition },\n",
    "#     { \"name\" : \"Heart Disease\" , \"dataset\" : heart_disease },\n",
    "    { \"name\" : \"Tic-Tac-Toe Endgame\" , \"dataset\" : tic_tac_toe_endgame },\n",
    "           ]\n",
    "\n",
    "\n",
    "dataset = ionosphere"
   ]
  },
  {
   "cell_type": "markdown",
   "metadata": {
    "id": "tITyMb6GyV_q"
   },
   "source": [
    "## modify datasets and required information\n",
    "\n"
   ]
  },
  {
   "cell_type": "markdown",
   "metadata": {
    "id": "NtpKxJuoqfE0"
   },
   "source": [
    "\n",
    "\n",
    "Preprocessing to convert non int and float columns using label encoder"
   ]
  },
  {
   "cell_type": "code",
   "execution_count": null,
   "metadata": {
    "colab": {
     "base_uri": "https://localhost:8080/"
    },
    "id": "4yzL65MklhBW",
    "outputId": "363ffa2c-e9f3-426e-a76d-712ddda1fc41"
   },
   "outputs": [],
   "source": [
    "from sklearn.preprocessing import LabelEncoder\n",
    "import pandas as pd\n",
    "\n",
    "def encode_categorical_features(df):\n",
    "    label_encoder = LabelEncoder()\n",
    "    object_columns = df.select_dtypes(include=['object']).columns\n",
    "    \n",
    "    for column in object_columns:\n",
    "        df[column + '_encoded'] = label_encoder.fit_transform(df[column])\n",
    "    \n",
    "    df.drop(columns=object_columns, inplace=True)\n",
    "\n",
    "def preprocess_data(dataset):\n",
    "    encode_categorical_features(dataset)\n",
    "    encode_categorical_features(dataset)\n",
    "\n",
    "\n",
    "preprocess_data(dataset.data.features)\n",
    "\n",
    "\n",
    "\n",
    "data = pd.concat([dataset.data.features, dataset.data.targets], axis=1)\n",
    "data.dropna(inplace=True)\n",
    "X = data.iloc[:, :-1]  # Features\n",
    "y = data.iloc[:, -1]\n",
    "dataset.data.targets = y\n",
    "dataset.data.features = X\n"
   ]
  },
  {
   "cell_type": "markdown",
   "metadata": {
    "id": "xu_GeOgv0aew"
   },
   "source": [
    "## functions"
   ]
  },
  {
   "cell_type": "code",
   "execution_count": null,
   "metadata": {
    "id": "7bw1T95W0W3e"
   },
   "outputs": [],
   "source": [
    "import csv\n",
    "\n",
    "def binary_conversion(X, dim):\n",
    "    Xbin = np.zeros(dim)\n",
    "    for d in range(dim):\n",
    "        if X[d] > 0.5:\n",
    "            Xbin[d] = 1\n",
    "        else:\n",
    "            Xbin[d] = 0\n",
    "\n",
    "    return Xbin\n",
    "\n",
    "\n",
    "def save_results(g_best, method_name, num_features,datasetName):\n",
    "    \n",
    "    selectedFeaturesSubset = binary_conversion(g_best.solution,num_features)\n",
    "    featuresCount = int(sum(selectedFeaturesSubset))\n",
    "    bestFitness = g_best.target.fitness\n",
    "    \n",
    "    print(f\"Solution: {str(selectedFeaturesSubset)}, Fitness: {g_best.target.fitness}\")\n",
    "    print(f\"No of features: {str(featuresCount)}\")\n",
    "    print(f\"Reached accuracy: {str(checkAccuracy(selectedFeaturesSubset))}\");\n",
    "    \n",
    "    acc = checkAccuracy(selectedFeaturesSubset)\n",
    "    res = {\n",
    "        \"Method\": method_name,\n",
    "        \"NumberOfFeatures\": str(featuresCount),\n",
    "        \"Accuracy\": acc,\n",
    "        \"Error\":1-acc,\n",
    "        \"Fitness\": bestFitness\n",
    "    }\n",
    "    # Save to CSV or any other preferred format\n",
    "    # Example: Using pandas to save as CSV\n",
    "    import pandas as pd\n",
    "    df = pd.DataFrame([res])\n",
    "    df.to_csv(f\"{datasetName}_results.csv\", mode='a', index=False, header=not pd.io.common.file_exists(f\"{datasetName}_results.csv\"))\n",
    "    "
   ]
  },
  {
   "cell_type": "markdown",
   "metadata": {
    "id": "GfnQ-q_c0v8A"
   },
   "source": [
    "## method"
   ]
  },
  {
   "cell_type": "code",
   "execution_count": null,
   "metadata": {
    "colab": {
     "base_uri": "https://localhost:8080/"
    },
    "id": "DIya6fMP0sPJ",
    "outputId": "e9e6f949-4508-46d5-c1a1-4176105db37c",
    "scrolled": true
   },
   "outputs": [],
   "source": [
    "import numpy as np\n",
    "from mealpy import FloatVar, GA,SFO,WOA,EHO,GWO,DO,MVO,MFO\n",
    "from sklearn.model_selection import cross_val_score\n",
    "from sklearn.svm import SVC\n",
    "from sklearn.metrics import accuracy_score\n",
    "from sklearn.ensemble import RandomForestClassifier\n",
    "from sklearn.model_selection import train_test_split\n",
    "from sklearn import preprocessing\n",
    "\n",
    "X_train, X_test, y_train, y_test = \"\", \"\" ,\"\" ,\"\"\n",
    "\n",
    "\n",
    "\n",
    "def checkAccuracy(features):\n",
    "    max_feat = len(features)\n",
    "    num_feat = np.sum(binary_conversion(features,num_features) == 1)\n",
    "    if num_feat == 0 or num_feat == max_feat:\n",
    "        return 1  \n",
    "\n",
    "    targets = np.array(y).ravel()\n",
    "    selected_features = binary_conversion(features,num_features);\n",
    "    f =  X.iloc[:, selected_features == 1]\n",
    "    X_train, X_test, y_train, y_test = train_test_split(f, targets, test_size=0.3)\n",
    "    svm = SVC(kernel='linear')\n",
    "    svm.fit(X_train, y_train.ravel())\n",
    "    # Predict on test set\n",
    "    y_pred = svm.predict(X_test)\n",
    "    Ytest = np.array(y_test)\n",
    "    num_valid = np.size(X_test, 0)\n",
    "    yvalid  = Ytest.reshape(num_valid)\n",
    "    accuracy = accuracy_score(y_test, y_pred)\n",
    "    \n",
    "    print(accuracy)\n",
    "    return accuracy\n",
    "\n",
    "def objective_function(features, X_train, X_test, y_train, y_test):\n",
    "    max_feat = len(features)\n",
    "    num_feat = np.sum(binary_conversion(features, num_features) == 1)\n",
    "    \n",
    "    # If no features or all features are selected, return a poor score\n",
    "    if num_feat == 0 or num_feat == max_feat:\n",
    "        return float('inf')  # Adjusted to return a poor score\n",
    "\n",
    "    alpha = 0.6\n",
    "    beta = 0.4\n",
    "\n",
    "    selected_features = binary_conversion(features, X_train.shape[1])\n",
    "    f_train = X_train.iloc[:, selected_features == 1]\n",
    "    f_test = X_test.iloc[:, selected_features == 1]\n",
    "    \n",
    "    svm = SVC(kernel='linear')\n",
    "    svm.fit(f_train, np.array(y_train).ravel())\n",
    "    y_pred = svm.predict(f_test)\n",
    "\n",
    "    accuracy = accuracy_score(y_test, y_pred)\n",
    "    cost = (alpha * (1 - accuracy)) + (beta * (num_feat / max_feat))\n",
    "    return cost\n",
    "\n",
    "\n",
    "\n",
    "for dataset in Datasets:\n",
    "    X = dataset[\"dataset\"].data.features\n",
    "    y = dataset[\"dataset\"].data.targets\n",
    "\n",
    "    num_features = X.shape[1]\n",
    "    search_space = np.array([0, 1] * num_features)\n",
    "\n",
    "    lb = np.zeros(num_features)\n",
    "    ub = np.ones(num_features)\n",
    "    \n",
    "    X_train, X_test, y_train, y_test = train_test_split(X, y, test_size=0.3)\n",
    "    \n",
    "   \n",
    "    \n",
    "    problem_dict = {\n",
    "    \"bounds\": FloatVar(lb=lb, ub=ub, ),\n",
    "    \"obj_func\": lambda features: objective_function(features, X_train, X_test, y_train, y_test),\n",
    "    \"minmax\": \"min\",\n",
    "    }\n",
    "    \n",
    "    for i in range(10):\n",
    "    \n",
    "        \n",
    "\n",
    "    \n",
    "        SFOModel = SFO.OriginalSFO(epoch=30,pop_size=50, pp = 0.1, AP =4 ,epsilon = 0.01)\n",
    "        g_best = SFOModel.solve(problem_dict)\n",
    "        save_results(g_best,\"SFO\", num_features, dataset[\"name\"])\n",
    "        \n",
    "        \n",
    "        GAmodel = GA.BaseGA(epoch=30,pop_size=50,pc=0.7, pm=0.05)\n",
    "        g_best = GAmodel.solve(problem_dict)\n",
    "        save_results(g_best,\"GA\", num_features, dataset[\"name\"])\n",
    "        \n",
    "        EHOModel = EHO.OriginalEHO(epoch=30,pop_size=50, alpha = 0.5, beta = 0.5, n_clans = 2)\n",
    "        g_best = EHOModel.solve(problem_dict)\n",
    "        save_results(g_best,\"EHO\", num_features, dataset[\"name\"])\n",
    "\n",
    "        GWOModel = GWO.OriginalGWO(epoch=30,pop_size=50)\n",
    "        g_best = GWOModel.solve(problem_dict)\n",
    "        save_results(g_best,\"GWO\", num_features, dataset[\"name\"])\n",
    "\n",
    "        WOAModel = WOA.OriginalWOA(epoch=30,pop_size=50)\n",
    "        g_best = WOAModel.solve(problem_dict)\n",
    "        save_results(g_best,\"WOA\", num_features, dataset[\"name\"])\n",
    "\n",
    "        MFOModel = MFO.OriginalMFO(epoch=30,pop_size=50)\n",
    "        g_best = MFOModel.solve(problem_dict)\n",
    "        save_results(g_best,\"MFO\", num_features, dataset[\"name\"])\n"
   ]
  },
  {
   "cell_type": "markdown",
   "metadata": {
    "id": "dmv8irBI1JXj"
   },
   "source": [
    "# create plots"
   ]
  },
  {
   "cell_type": "code",
   "execution_count": null,
   "metadata": {
    "colab": {
     "base_uri": "https://localhost:8080/",
     "height": 719
    },
    "id": "3rmAMFcy1BnK",
    "outputId": "353f59e2-c2a7-4e9b-8c61-51ec128e50f4"
   },
   "outputs": [],
   "source": [
    "\n",
    "import numpy as np\n",
    "import matplotlib.pyplot as plt\n",
    "\n",
    "\n",
    "\n",
    "# set width of bar\n",
    "barWidth = 0.25\n",
    "fig = plt.subplots(figsize =(12, 8))\n",
    "\n",
    "\n",
    "SFO = [];\n",
    "GA = [];\n",
    "\n",
    "DatasetsName = []\n",
    "\n",
    "\n",
    "for x in Datasets:\n",
    "  SFO.append(float(x[\"Accuracy_SFO\"]) * 100)\n",
    "  GA.append(float(x[\"Accuracy_GA\"]) * 100)\n",
    "  DatasetsName.append(x[\"name\"])\n",
    "\n",
    "\n",
    "# Set position of bar on X axis\n",
    "br1 = np.arange(len(SFO))\n",
    "br2 = [x + barWidth for x in br1]\n",
    "br3 = [x + barWidth for x in br2]\n",
    "\n",
    "# Make the plot\n",
    "plt.bar(br1, SFO, color ='r', width = barWidth,\n",
    "        edgecolor ='grey', label ='SFO')\n",
    "plt.bar(br2, GA, color ='g', width = barWidth,\n",
    "        edgecolor ='grey', label ='GA')\n",
    "\n",
    "# Adding Xticks\n",
    "plt.xlabel('Branch', fontweight ='bold', fontsize = 15)\n",
    "plt.ylabel('Students passed', fontweight ='bold', fontsize = 15)\n",
    "plt.xticks([r + barWidth for r in range(len(SFO))],\n",
    "       DatasetsName)\n",
    "\n",
    "plt.legend()\n",
    "plt.show()"
   ]
  },
  {
   "cell_type": "code",
   "execution_count": null,
   "metadata": {
    "id": "m0vOQ_Yk3YIM"
   },
   "outputs": [],
   "source": []
  }
 ],
 "metadata": {
  "colab": {
   "authorship_tag": "ABX9TyO3WAWWnUBy/ps6Grin1axa",
   "include_colab_link": true,
   "provenance": []
  },
  "kernelspec": {
   "display_name": "Python 3 (ipykernel)",
   "language": "python",
   "name": "python3"
  },
  "language_info": {
   "codemirror_mode": {
    "name": "ipython",
    "version": 3
   },
   "file_extension": ".py",
   "mimetype": "text/x-python",
   "name": "python",
   "nbconvert_exporter": "python",
   "pygments_lexer": "ipython3",
   "version": "3.11.7"
  }
 },
 "nbformat": 4,
 "nbformat_minor": 1
}
