{
  "nbformat": 4,
  "nbformat_minor": 0,
  "metadata": {
    "colab": {
      "provenance": [],
      "authorship_tag": "ABX9TyO3WAWWnUBy/ps6Grin1axa",
      "include_colab_link": true
    },
    "kernelspec": {
      "name": "python3",
      "display_name": "Python 3"
    },
    "language_info": {
      "name": "python"
    }
  },
  "cells": [
    {
      "cell_type": "markdown",
      "metadata": {
        "id": "view-in-github",
        "colab_type": "text"
      },
      "source": [
        "<a href=\"https://colab.research.google.com/github/hamidzangiabadi/sailfish-optimization-algorithm/blob/main/Method.ipynb\" target=\"_parent\"><img src=\"https://colab.research.google.com/assets/colab-badge.svg\" alt=\"Open In Colab\"/></a>"
      ]
    },
    {
      "cell_type": "code",
      "source": [
        "!pip install ucimlrepo\n",
        "!pip install mealpy\n",
        "!pip install scikit-learn"
      ],
      "metadata": {
        "colab": {
          "base_uri": "https://localhost:8080/"
        },
        "id": "Y18w97Lfh9G2",
        "outputId": "4c7dbbf2-acc8-4039-db9b-0153958b229b"
      },
      "execution_count": null,
      "outputs": [
        {
          "output_type": "stream",
          "name": "stdout",
          "text": [
            "Collecting ucimlrepo\n",
            "  Downloading ucimlrepo-0.0.6-py3-none-any.whl (8.0 kB)\n",
            "Installing collected packages: ucimlrepo\n",
            "Successfully installed ucimlrepo-0.0.6\n",
            "Collecting mealpy\n",
            "  Downloading mealpy-3.0.1-py3-none-any.whl (386 kB)\n",
            "\u001b[2K     \u001b[90m━━━━━━━━━━━━━━━━━━━━━━━━━━━━━━━━━━━━━━━━\u001b[0m \u001b[32m386.3/386.3 kB\u001b[0m \u001b[31m4.0 MB/s\u001b[0m eta \u001b[36m0:00:00\u001b[0m\n",
            "\u001b[?25hRequirement already satisfied: numpy>=1.17.5 in /usr/local/lib/python3.10/dist-packages (from mealpy) (1.25.2)\n",
            "Requirement already satisfied: matplotlib>=3.3.0 in /usr/local/lib/python3.10/dist-packages (from mealpy) (3.7.1)\n",
            "Requirement already satisfied: scipy>=1.7.1 in /usr/local/lib/python3.10/dist-packages (from mealpy) (1.11.4)\n",
            "Requirement already satisfied: pandas>=1.2.0 in /usr/local/lib/python3.10/dist-packages (from mealpy) (2.0.3)\n",
            "Collecting opfunu>=1.0.0 (from mealpy)\n",
            "  Downloading opfunu-1.0.2-py3-none-any.whl (13.0 MB)\n",
            "\u001b[2K     \u001b[90m━━━━━━━━━━━━━━━━━━━━━━━━━━━━━━━━━━━━━━━━\u001b[0m \u001b[32m13.0/13.0 MB\u001b[0m \u001b[31m24.4 MB/s\u001b[0m eta \u001b[36m0:00:00\u001b[0m\n",
            "\u001b[?25hRequirement already satisfied: contourpy>=1.0.1 in /usr/local/lib/python3.10/dist-packages (from matplotlib>=3.3.0->mealpy) (1.2.1)\n",
            "Requirement already satisfied: cycler>=0.10 in /usr/local/lib/python3.10/dist-packages (from matplotlib>=3.3.0->mealpy) (0.12.1)\n",
            "Requirement already satisfied: fonttools>=4.22.0 in /usr/local/lib/python3.10/dist-packages (from matplotlib>=3.3.0->mealpy) (4.51.0)\n",
            "Requirement already satisfied: kiwisolver>=1.0.1 in /usr/local/lib/python3.10/dist-packages (from matplotlib>=3.3.0->mealpy) (1.4.5)\n",
            "Requirement already satisfied: packaging>=20.0 in /usr/local/lib/python3.10/dist-packages (from matplotlib>=3.3.0->mealpy) (24.0)\n",
            "Requirement already satisfied: pillow>=6.2.0 in /usr/local/lib/python3.10/dist-packages (from matplotlib>=3.3.0->mealpy) (9.4.0)\n",
            "Requirement already satisfied: pyparsing>=2.3.1 in /usr/local/lib/python3.10/dist-packages (from matplotlib>=3.3.0->mealpy) (3.1.2)\n",
            "Requirement already satisfied: python-dateutil>=2.7 in /usr/local/lib/python3.10/dist-packages (from matplotlib>=3.3.0->mealpy) (2.8.2)\n",
            "Requirement already satisfied: requests>=2.27.0 in /usr/local/lib/python3.10/dist-packages (from opfunu>=1.0.0->mealpy) (2.31.0)\n",
            "Requirement already satisfied: pytz>=2020.1 in /usr/local/lib/python3.10/dist-packages (from pandas>=1.2.0->mealpy) (2023.4)\n",
            "Requirement already satisfied: tzdata>=2022.1 in /usr/local/lib/python3.10/dist-packages (from pandas>=1.2.0->mealpy) (2024.1)\n",
            "Requirement already satisfied: six>=1.5 in /usr/local/lib/python3.10/dist-packages (from python-dateutil>=2.7->matplotlib>=3.3.0->mealpy) (1.16.0)\n",
            "Requirement already satisfied: charset-normalizer<4,>=2 in /usr/local/lib/python3.10/dist-packages (from requests>=2.27.0->opfunu>=1.0.0->mealpy) (3.3.2)\n",
            "Requirement already satisfied: idna<4,>=2.5 in /usr/local/lib/python3.10/dist-packages (from requests>=2.27.0->opfunu>=1.0.0->mealpy) (3.7)\n",
            "Requirement already satisfied: urllib3<3,>=1.21.1 in /usr/local/lib/python3.10/dist-packages (from requests>=2.27.0->opfunu>=1.0.0->mealpy) (2.0.7)\n",
            "Requirement already satisfied: certifi>=2017.4.17 in /usr/local/lib/python3.10/dist-packages (from requests>=2.27.0->opfunu>=1.0.0->mealpy) (2024.2.2)\n",
            "Installing collected packages: opfunu, mealpy\n",
            "Successfully installed mealpy-3.0.1 opfunu-1.0.2\n",
            "Requirement already satisfied: scikit-learn in /usr/local/lib/python3.10/dist-packages (1.2.2)\n",
            "Requirement already satisfied: numpy>=1.17.3 in /usr/local/lib/python3.10/dist-packages (from scikit-learn) (1.25.2)\n",
            "Requirement already satisfied: scipy>=1.3.2 in /usr/local/lib/python3.10/dist-packages (from scikit-learn) (1.11.4)\n",
            "Requirement already satisfied: joblib>=1.1.1 in /usr/local/lib/python3.10/dist-packages (from scikit-learn) (1.4.2)\n",
            "Requirement already satisfied: threadpoolctl>=2.0.0 in /usr/local/lib/python3.10/dist-packages (from scikit-learn) (3.5.0)\n"
          ]
        }
      ]
    },
    {
      "cell_type": "markdown",
      "source": [
        "# import datasets"
      ],
      "metadata": {
        "id": "RM3KGHfcyEzQ"
      }
    },
    {
      "cell_type": "code",
      "execution_count": null,
      "metadata": {
        "id": "SY2jjdulw-dh"
      },
      "outputs": [],
      "source": [
        "from ucimlrepo import fetch_ucirepo\n",
        "\n",
        "# fetch dataset\n",
        "wine = fetch_ucirepo(id=109)\n",
        "breast_cancer = fetch_ucirepo(id=14)\n",
        "zoo = fetch_ucirepo(id=111)\n",
        "\n",
        "\n",
        "Datasets = [{ \"name\" : \"Breast Cancer\" , \"dataset\" : breast_cancer },{ \"name\" : \"Zoo\" , \"dataset\" : zoo },{ \"name\" : \"Wine\" , \"dataset\" : wine }]"
      ]
    },
    {
      "cell_type": "markdown",
      "source": [
        "## modify datasets and required information\n",
        "\n"
      ],
      "metadata": {
        "id": "tITyMb6GyV_q"
      }
    },
    {
      "cell_type": "markdown",
      "source": [
        "\n",
        "\n",
        "Preprocessing to convert non int and float columns using label encoder"
      ],
      "metadata": {
        "id": "NtpKxJuoqfE0"
      }
    },
    {
      "cell_type": "code",
      "source": [
        "from sklearn.preprocessing import LabelEncoder\n",
        "import pandas as pd\n",
        "\n",
        "\n",
        "\n",
        "for x in Datasets:\n",
        "\n",
        "  label_encoder = LabelEncoder()\n",
        "  df = x[\"dataset\"].data.features\n",
        "  object_columns = df.select_dtypes(include=['object']).columns\n",
        "  # Apply LabelEncoder to each object column\n",
        "  for column in object_columns:\n",
        "      df[column + '_encoded'] = label_encoder.fit_transform(df[column])\n",
        "  df = df.drop(columns=object_columns)\n",
        "\n",
        "  x[\"dataset\"].data.features = df\n",
        "\n",
        "  targetdf = x[\"dataset\"].data.targets\n",
        "  object_columns = targetdf.select_dtypes(include=['object']).columns\n",
        "  # Apply LabelEncoder to each object column\n",
        "  for column in object_columns:\n",
        "      targetdf[column + '_encoded'] = label_encoder.fit_transform(targetdf[column])\n",
        "  targetdf = targetdf.drop(columns=object_columns)\n",
        "\n",
        "  x[\"dataset\"].data.targets = targetdf\n"
      ],
      "metadata": {
        "id": "4yzL65MklhBW",
        "colab": {
          "base_uri": "https://localhost:8080/"
        },
        "outputId": "363ffa2c-e9f3-426e-a76d-712ddda1fc41"
      },
      "execution_count": null,
      "outputs": [
        {
          "output_type": "stream",
          "name": "stderr",
          "text": [
            "<ipython-input-59-01449c7003ef>:22: SettingWithCopyWarning: \n",
            "A value is trying to be set on a copy of a slice from a DataFrame.\n",
            "Try using .loc[row_indexer,col_indexer] = value instead\n",
            "\n",
            "See the caveats in the documentation: https://pandas.pydata.org/pandas-docs/stable/user_guide/indexing.html#returning-a-view-versus-a-copy\n",
            "  targetdf[column + '_encoded'] = label_encoder.fit_transform(targetdf[column])\n"
          ]
        }
      ]
    },
    {
      "cell_type": "markdown",
      "source": [
        "## functions"
      ],
      "metadata": {
        "id": "xu_GeOgv0aew"
      }
    },
    {
      "cell_type": "code",
      "source": [
        "def binary_conversion(X, dim):\n",
        "    Xbin = np.zeros(dim)\n",
        "    for d in range(dim):\n",
        "        if X[d] > 0.5:\n",
        "            Xbin[d] = 1\n",
        "        else:\n",
        "            Xbin[d] = 0\n",
        "\n",
        "    return Xbin\n",
        "\n"
      ],
      "metadata": {
        "id": "7bw1T95W0W3e"
      },
      "execution_count": null,
      "outputs": []
    },
    {
      "cell_type": "markdown",
      "source": [
        "## method"
      ],
      "metadata": {
        "id": "GfnQ-q_c0v8A"
      }
    },
    {
      "cell_type": "code",
      "source": [
        "import numpy as np\n",
        "from mealpy import FloatVar, GA,SFO\n",
        "from sklearn.model_selection import cross_val_score\n",
        "from sklearn.svm import SVC\n",
        "from sklearn.metrics import accuracy_score\n",
        "from sklearn.ensemble import RandomForestClassifier\n",
        "from sklearn.model_selection import train_test_split\n",
        "from sklearn import preprocessing\n",
        "\n",
        "\n",
        "def checkAccuracy(features):\n",
        "    max_feat = len(features)\n",
        "    num_feat = np.sum(binary_conversion(features,num_features) == 1)\n",
        "    if num_feat == 0:\n",
        "        return 1\n",
        "\n",
        "    targets = np.array(y).ravel()\n",
        "    selected_features = binary_conversion(features,num_features);\n",
        "    f =  X.iloc[:, selected_features == 1]\n",
        "    X_train, X_test, y_train, y_test = train_test_split(f, targets, test_size=0.3)\n",
        "    svm = SVC(kernel='linear')\n",
        "    svm.fit(X_train, y_train)\n",
        "    # Predict on test set\n",
        "    y_pred = svm.predict(X_test)\n",
        "\n",
        "    num_valid = np.size(X_test, 0)\n",
        "    yvalid  = y_test.reshape(num_valid)\n",
        "    accuracy = accuracy_score(y_test, y_pred)\n",
        "    return accuracy\n",
        "\n",
        "def objective_function(features):\n",
        "    max_feat = len(features)\n",
        "    num_feat = np.sum(binary_conversion(features,num_features) == 1)\n",
        "    if num_feat == 0:\n",
        "        return 1\n",
        "\n",
        "    alpha = 0.6\n",
        "    beta = 0.4\n",
        "\n",
        "    targets = np.array(y).ravel()\n",
        "    selected_features = binary_conversion(features,num_features);\n",
        "\n",
        "    f =  X.iloc[:, selected_features == 1]\n",
        "    X_train, X_test, y_train, y_test = train_test_split(f, targets, test_size=0.3)\n",
        "\n",
        "    svm = SVC(kernel='linear')\n",
        "    svm.fit(X_train, y_train)\n",
        "    # Predict on test set\n",
        "    y_pred = svm.predict(X_test)\n",
        "\n",
        "    num_valid = np.size(X_test, 0)\n",
        "    yvalid  = y_test.reshape(num_valid)\n",
        "\n",
        "    # Calculate accuracy\n",
        "    accuracy = accuracy_score(y_test, y_pred)\n",
        "    acc     = np.sum(yvalid == y_pred) / num_valid\n",
        "    error   = 1 - acc\n",
        "\n",
        "\n",
        "    cost  = (alpha * error) + ( beta * (num_feat / max_feat))\n",
        "\n",
        "    return cost\n",
        "\n",
        "\n",
        "for dataset in Datasets:\n",
        "  X = dataset[\"dataset\"].data.features\n",
        "  y = dataset[\"dataset\"].data.targets\n",
        "\n",
        "  num_features = X.shape[1]\n",
        "  search_space = np.array([0, 1] * num_features)\n",
        "\n",
        "  lb = np.zeros(num_features)\n",
        "  ub = np.ones(num_features)\n",
        "\n",
        "\n",
        "  problem_dict = {\n",
        "    \"bounds\": FloatVar(lb=lb, ub=ub, ),\n",
        "    \"obj_func\": objective_function,\n",
        "    \"minmax\": \"min\",\n",
        "  }\n",
        "\n",
        "  model = GA.BaseGA(epoch=2,pop_size=10,pc=0.9, pm=0.05)\n",
        "  g_best = model.solve(problem_dict)\n",
        "  selectedFeaturesSubset = binary_conversion(g_best.solution,num_features)\n",
        "  featuresCount = int(sum(selectedFeaturesSubset))\n",
        "  dataset[\"FeaturesNo_GA\"] = str(featuresCount)\n",
        "  dataset[\"Accuracy_GA\"] = str(checkAccuracy(selectedFeaturesSubset))\n",
        "\n",
        "  print(f\"Solution: {str(selectedFeaturesSubset)}, Fitness: {g_best.target.fitness}\")\n",
        "  print(f\"No of features: {str(featuresCount)}\")\n",
        "  print(f\"Reached accuracy: {str(checkAccuracy(selectedFeaturesSubset))}\");\n",
        "\n",
        "\n",
        "\n",
        "  model1 = SFO.OriginalSFO(epoch=3, pop_size=10, pp = 0.2, AP = 4.0, epsilon = 0.0001)\n",
        "  g_best = model1.solve(problem_dict)\n",
        "  selectedFeaturesSubset = binary_conversion(g_best.solution,num_features)\n",
        "  featuresCount = int(sum(selectedFeaturesSubset))\n",
        "  print(f\"Solution: {binary_conversion(g_best.solution,num_features)}, Fitness: {g_best.target.fitness}\")\n",
        "  print(f\"No of features: {str(featuresCount)}\")\n",
        "  print(f\"Reached accuracy: {str(checkAccuracy(selectedFeaturesSubset))}\");\n",
        "  dataset[\"FeaturesNo_SFO\"] = str(featuresCount)\n",
        "  dataset[\"Accuracy_SFO\"] = str(checkAccuracy(selectedFeaturesSubset))\n",
        "\n",
        "\n",
        "\n"
      ],
      "metadata": {
        "id": "DIya6fMP0sPJ",
        "colab": {
          "base_uri": "https://localhost:8080/"
        },
        "outputId": "e9e6f949-4508-46d5-c1a1-4176105db37c"
      },
      "execution_count": null,
      "outputs": [
        {
          "output_type": "stream",
          "name": "stderr",
          "text": [
            "INFO:mealpy.evolutionary_based.GA.BaseGA:Solving single objective optimization problem.\n",
            "INFO:mealpy.evolutionary_based.GA.BaseGA:>>>Problem: P, Epoch: 1, Current best: 0.2493540051679587, Global best: 0.2493540051679587, Runtime: 0.09187 seconds\n",
            "INFO:mealpy.evolutionary_based.GA.BaseGA:>>>Problem: P, Epoch: 2, Current best: 0.21886304909560722, Global best: 0.21886304909560722, Runtime: 0.10421 seconds\n",
            "INFO:mealpy.swarm_based.SFO.OriginalSFO:Solving single objective optimization problem.\n"
          ]
        },
        {
          "output_type": "stream",
          "name": "stdout",
          "text": [
            "Solution: [0. 0. 1. 0. 0. 0. 0. 0. 0.], Fitness: 0.21886304909560722\n",
            "No of features: 1\n",
            "Reached accuracy: 0.7209302325581395\n"
          ]
        },
        {
          "output_type": "stream",
          "name": "stderr",
          "text": [
            "INFO:mealpy.swarm_based.SFO.OriginalSFO:>>>Problem: P, Epoch: 1, Current best: 0.21188630490956076, Global best: 0.21188630490956076, Runtime: 0.64685 seconds\n",
            "INFO:mealpy.swarm_based.SFO.OriginalSFO:>>>Problem: P, Epoch: 2, Current best: 0.21188630490956076, Global best: 0.21188630490956076, Runtime: 0.65061 seconds\n",
            "INFO:mealpy.swarm_based.SFO.OriginalSFO:>>>Problem: P, Epoch: 3, Current best: 0.17700258397932814, Global best: 0.17700258397932814, Runtime: 0.55387 seconds\n",
            "INFO:mealpy.evolutionary_based.GA.BaseGA:Solving single objective optimization problem.\n",
            "INFO:mealpy.evolutionary_based.GA.BaseGA:>>>Problem: P, Epoch: 1, Current best: 0.16370967741935488, Global best: 0.16370967741935488, Runtime: 0.07545 seconds\n"
          ]
        },
        {
          "output_type": "stream",
          "name": "stdout",
          "text": [
            "Solution: [0. 0. 0. 0. 0. 0. 0. 1. 0.], Fitness: 0.17700258397932814\n",
            "No of features: 1\n",
            "Reached accuracy: 0.7325581395348837\n"
          ]
        },
        {
          "output_type": "stream",
          "name": "stderr",
          "text": [
            "INFO:mealpy.evolutionary_based.GA.BaseGA:>>>Problem: P, Epoch: 2, Current best: 0.16370967741935488, Global best: 0.16370967741935488, Runtime: 0.08047 seconds\n",
            "INFO:mealpy.swarm_based.SFO.OriginalSFO:Solving single objective optimization problem.\n"
          ]
        },
        {
          "output_type": "stream",
          "name": "stdout",
          "text": [
            "Solution: [0. 0. 0. 1. 0. 1. 0. 1. 0. 0. 0. 0. 0. 1. 0. 1.], Fitness: 0.16370967741935488\n",
            "No of features: 5\n",
            "Reached accuracy: 0.8387096774193549\n"
          ]
        },
        {
          "output_type": "stream",
          "name": "stderr",
          "text": [
            "INFO:mealpy.swarm_based.SFO.OriginalSFO:>>>Problem: P, Epoch: 1, Current best: 0.13870967741935486, Global best: 0.13870967741935486, Runtime: 0.27008 seconds\n",
            "INFO:mealpy.swarm_based.SFO.OriginalSFO:>>>Problem: P, Epoch: 2, Current best: 0.13870967741935486, Global best: 0.13870967741935486, Runtime: 0.28986 seconds\n",
            "INFO:mealpy.swarm_based.SFO.OriginalSFO:>>>Problem: P, Epoch: 3, Current best: 0.13870967741935486, Global best: 0.13870967741935486, Runtime: 0.26175 seconds\n"
          ]
        },
        {
          "output_type": "stream",
          "name": "stdout",
          "text": [
            "Solution: [1. 0. 0. 0. 0. 0. 0. 1. 1. 0. 0. 0. 1. 0. 0. 0.], Fitness: 0.13870967741935486\n",
            "No of features: 4\n",
            "Reached accuracy: 0.7741935483870968\n"
          ]
        },
        {
          "output_type": "stream",
          "name": "stderr",
          "text": [
            "INFO:mealpy.evolutionary_based.GA.BaseGA:Solving single objective optimization problem.\n",
            "INFO:mealpy.evolutionary_based.GA.BaseGA:>>>Problem: P, Epoch: 1, Current best: 0.1897435897435898, Global best: 0.1897435897435898, Runtime: 1.14947 seconds\n",
            "INFO:mealpy.evolutionary_based.GA.BaseGA:>>>Problem: P, Epoch: 2, Current best: 0.1871794871794872, Global best: 0.1871794871794872, Runtime: 1.52001 seconds\n",
            "INFO:mealpy.swarm_based.SFO.OriginalSFO:Solving single objective optimization problem.\n"
          ]
        },
        {
          "output_type": "stream",
          "name": "stdout",
          "text": [
            "Solution: [0. 0. 1. 0. 0. 0. 0. 1. 1. 1. 0. 1. 0.], Fitness: 0.1871794871794872\n",
            "No of features: 5\n",
            "Reached accuracy: 0.8888888888888888\n"
          ]
        },
        {
          "output_type": "stream",
          "name": "stderr",
          "text": [
            "INFO:mealpy.swarm_based.SFO.OriginalSFO:>>>Problem: P, Epoch: 1, Current best: 0.11709401709401707, Global best: 0.11709401709401707, Runtime: 6.20381 seconds\n",
            "INFO:mealpy.swarm_based.SFO.OriginalSFO:>>>Problem: P, Epoch: 2, Current best: 0.11709401709401707, Global best: 0.11709401709401707, Runtime: 3.59972 seconds\n",
            "INFO:mealpy.swarm_based.SFO.OriginalSFO:>>>Problem: P, Epoch: 3, Current best: 0.11709401709401707, Global best: 0.11709401709401707, Runtime: 3.34287 seconds\n"
          ]
        },
        {
          "output_type": "stream",
          "name": "stdout",
          "text": [
            "Solution: [1. 0. 0. 0. 0. 0. 1. 0. 0. 0. 0. 0. 0.], Fitness: 0.11709401709401707\n",
            "No of features: 2\n",
            "Reached accuracy: 0.8703703703703703\n"
          ]
        }
      ]
    },
    {
      "cell_type": "markdown",
      "source": [
        "# create plots"
      ],
      "metadata": {
        "id": "dmv8irBI1JXj"
      }
    },
    {
      "cell_type": "code",
      "source": [
        "\n",
        "import numpy as np\n",
        "import matplotlib.pyplot as plt\n",
        "\n",
        "\n",
        "\n",
        "# set width of bar\n",
        "barWidth = 0.25\n",
        "fig = plt.subplots(figsize =(12, 8))\n",
        "\n",
        "\n",
        "SFO = [];\n",
        "GA = [];\n",
        "\n",
        "DatasetsName = []\n",
        "\n",
        "\n",
        "for x in Datasets:\n",
        "  SFO.append(float(x[\"Accuracy_SFO\"]) * 100)\n",
        "  GA.append(float(x[\"Accuracy_GA\"]) * 100)\n",
        "  DatasetsName.append(x[\"name\"])\n",
        "\n",
        "\n",
        "# Set position of bar on X axis\n",
        "br1 = np.arange(len(SFO))\n",
        "br2 = [x + barWidth for x in br1]\n",
        "br3 = [x + barWidth for x in br2]\n",
        "\n",
        "# Make the plot\n",
        "plt.bar(br1, SFO, color ='r', width = barWidth,\n",
        "        edgecolor ='grey', label ='SFO')\n",
        "plt.bar(br2, GA, color ='g', width = barWidth,\n",
        "        edgecolor ='grey', label ='GA')\n",
        "\n",
        "# Adding Xticks\n",
        "plt.xlabel('Branch', fontweight ='bold', fontsize = 15)\n",
        "plt.ylabel('Students passed', fontweight ='bold', fontsize = 15)\n",
        "plt.xticks([r + barWidth for r in range(len(SFO))],\n",
        "       DatasetsName)\n",
        "\n",
        "plt.legend()\n",
        "plt.show()"
      ],
      "metadata": {
        "colab": {
          "base_uri": "https://localhost:8080/",
          "height": 719
        },
        "id": "3rmAMFcy1BnK",
        "outputId": "353f59e2-c2a7-4e9b-8c61-51ec128e50f4"
      },
      "execution_count": null,
      "outputs": [
        {
          "output_type": "stream",
          "name": "stdout",
          "text": [
            "[75.5813953488372, 80.64516129032258, 94.44444444444444]\n"
          ]
        },
        {
          "output_type": "display_data",
          "data": {
            "text/plain": [
              "<Figure size 1200x800 with 1 Axes>"
            ],
            "image/png": "[encoded data removed]"
          },
          "metadata": {}
        }
      ]
    },
    {
      "cell_type": "code",
      "source": [],
      "metadata": {
        "id": "m0vOQ_Yk3YIM"
      },
      "execution_count": null,
      "outputs": []
    }
  ]
}